{
 "cells": [
  {
   "cell_type": "code",
   "execution_count": 17,
   "metadata": {},
   "outputs": [],
   "source": [
    "import numpy as np, random, operator, pandas as pd, matplotlib.pyplot as plt\n",
    "import networkx as nx\n",
    "from parse import read_input_file, write_output_file, read_output_file\n",
    "from utils import is_valid_solution, calculate_happiness, calculate_stress_for_room\n",
    "from utils import convert_dictionary\n",
    "import sys"
   ]
  },
  {
   "cell_type": "code",
   "execution_count": null,
   "metadata": {},
   "outputs": [],
   "source": []
  },
  {
   "cell_type": "markdown",
   "metadata": {},
   "source": [
    "## Create necessary classes and functions"
   ]
  },
  {
   "cell_type": "markdown",
   "metadata": {},
   "source": [
    "Create class to handle \"cities\""
   ]
  },
  {
   "cell_type": "code",
   "execution_count": 3,
   "metadata": {},
   "outputs": [],
   "source": [
    "class City:\n",
    "    def __init__(self, x, y):\n",
    "        self.x = x\n",
    "        self.y = y\n",
    "    \n",
    "    def distance(self, city):\n",
    "        xDis = abs(self.x - city.x)\n",
    "        yDis = abs(self.y - city.y)\n",
    "        distance = np.sqrt((xDis ** 2) + (yDis ** 2))\n",
    "        return distance\n",
    "    \n",
    "    def __repr__(self):\n",
    "        return \"(\" + str(self.x) + \",\" + str(self.y) + \")\""
   ]
  },
  {
   "cell_type": "markdown",
   "metadata": {},
   "source": [
    "Create a fitness function"
   ]
  },
  {
   "cell_type": "code",
   "execution_count": 4,
   "metadata": {},
   "outputs": [],
   "source": [
    "class Fitness: #need to add the output for our result\n",
    "    def __init__(self, route):\n",
    "        self.route = route\n",
    "        self.distance = 0\n",
    "        self.fitness= 0.0\n",
    "        self.result = {}\n",
    "    \n",
    "    def routeDistance(self): #calculate the stress level and happiness here\n",
    "        for k in range(1, len(self.route)):\n",
    "            D = {} #student to room\n",
    "            group_list = [ [] for _ in range(k)]\n",
    "            for i in range(k):\n",
    "                D[self.route[i]] = i\n",
    "                group_list[i].append(self.route[i])\n",
    "            for i in range(k, len(self.route)):\n",
    "                cur = self.route[i]\n",
    "                # print(type(cur_node), cur_node)\n",
    "                mini = float('inf')\n",
    "                maxi = -float('inf')\n",
    "                cur_group = None\n",
    "                stress_group = None\n",
    "                stress_out = False\n",
    "                for group_num, group in enumerate(group_list):\n",
    "                    happiness = sum(G[cur][other_person]['happiness'] for other_person in group if G.has_edge(cur, other_person))\n",
    "                    group_copy = list(group)\n",
    "                    group_copy.append(cur)\n",
    "                    stress = calculate_stress_for_room(group_copy, G)\n",
    "                    if stress < mini:\n",
    "                        mini = stress\n",
    "                        stress_group = group_num\n",
    "                    if stress > s/k:\n",
    "                        continue\n",
    "                    if happiness > maxi:\n",
    "                        cur_group = group_num\n",
    "                        maxi = happiness # we can add tiebreaking here\n",
    "                if cur_group == None:\n",
    "                    cur_group = stress_group\n",
    "                    stress_out = True\n",
    "                D[cur] = cur_group\n",
    "                group_list[cur_group].append(cur)\n",
    "            if is_valid_solution(D, G, s, k):\n",
    "                cur_val = calculate_happiness(D, G)\n",
    "                self.result = D\n",
    "                return cur_val\n",
    "        return -1\n",
    "    \n",
    "    def routeFitness(self):\n",
    "        if self.fitness == 0:\n",
    "            self.fitness = float(self.routeDistance())\n",
    "        return self.fitness"
   ]
  },
  {
   "cell_type": "markdown",
   "metadata": {},
   "source": [
    "## Create our initial population"
   ]
  },
  {
   "cell_type": "markdown",
   "metadata": {},
   "source": [
    "Route generator"
   ]
  },
  {
   "cell_type": "code",
   "execution_count": 5,
   "metadata": {},
   "outputs": [],
   "source": [
    "def createRoute(cityList):\n",
    "    route = random.sample(cityList, len(cityList))\n",
    "    return route"
   ]
  },
  {
   "cell_type": "markdown",
   "metadata": {},
   "source": [
    "Create first \"population\" (list of routes)"
   ]
  },
  {
   "cell_type": "code",
   "execution_count": 6,
   "metadata": {},
   "outputs": [],
   "source": [
    "def initialPopulation(popSize, cityList):\n",
    "    population = []\n",
    "\n",
    "    for i in range(0, popSize):\n",
    "        population.append(createRoute(cityList))\n",
    "    return population"
   ]
  },
  {
   "cell_type": "markdown",
   "metadata": {},
   "source": [
    "## Create the genetic algorithm"
   ]
  },
  {
   "cell_type": "markdown",
   "metadata": {},
   "source": [
    "Rank individuals"
   ]
  },
  {
   "cell_type": "code",
   "execution_count": 7,
   "metadata": {},
   "outputs": [],
   "source": [
    "def rankRoutes(population):\n",
    "    fitnessResults = {}\n",
    "    for i in range(0,len(population)):\n",
    "        fitnessResults[i] = Fitness(population[i]).routeFitness()\n",
    "    return sorted(fitnessResults.items(), key = operator.itemgetter(1), reverse = True)"
   ]
  },
  {
   "cell_type": "markdown",
   "metadata": {},
   "source": [
    "Create a selection function that will be used to make the list of parent routes"
   ]
  },
  {
   "cell_type": "code",
   "execution_count": 8,
   "metadata": {},
   "outputs": [],
   "source": [
    "def selection(popRanked, eliteSize):\n",
    "    selectionResults = []\n",
    "    df = pd.DataFrame(np.array(popRanked), columns=[\"Index\",\"Fitness\"])\n",
    "    df['cum_sum'] = df.Fitness.cumsum()\n",
    "    df['cum_perc'] = 100*df.cum_sum/df.Fitness.sum()\n",
    "    \n",
    "    for i in range(0, eliteSize):\n",
    "        selectionResults.append(popRanked[i][0])\n",
    "    for i in range(0, len(popRanked) - eliteSize):\n",
    "        pick = 100*random.random()\n",
    "        for i in range(0, len(popRanked)):\n",
    "            if pick <= df.iat[i,3]:\n",
    "                selectionResults.append(popRanked[i][0])\n",
    "                break\n",
    "    return selectionResults"
   ]
  },
  {
   "cell_type": "markdown",
   "metadata": {},
   "source": [
    "Create mating pool"
   ]
  },
  {
   "cell_type": "code",
   "execution_count": 9,
   "metadata": {},
   "outputs": [],
   "source": [
    "def matingPool(population, selectionResults):\n",
    "    matingpool = []\n",
    "    for i in range(0, len(selectionResults)):\n",
    "        index = selectionResults[i]\n",
    "        matingpool.append(population[index])\n",
    "    return matingpool"
   ]
  },
  {
   "cell_type": "markdown",
   "metadata": {},
   "source": [
    "Create a crossover function for two parents to create one child"
   ]
  },
  {
   "cell_type": "code",
   "execution_count": 10,
   "metadata": {},
   "outputs": [],
   "source": [
    "def breed(parent1, parent2):\n",
    "    child = []\n",
    "    childP1 = []\n",
    "    childP2 = []\n",
    "    \n",
    "    geneA = int(random.random() * len(parent1))\n",
    "    geneB = int(random.random() * len(parent1))\n",
    "    \n",
    "    startGene = min(geneA, geneB)\n",
    "    endGene = max(geneA, geneB)\n",
    "\n",
    "    for i in range(startGene, endGene):\n",
    "        childP1.append(parent1[i])\n",
    "        \n",
    "    childP2 = [item for item in parent2 if item not in childP1]\n",
    "\n",
    "    child = childP1 + childP2\n",
    "    return child"
   ]
  },
  {
   "cell_type": "markdown",
   "metadata": {},
   "source": [
    "Create function to run crossover over full mating pool"
   ]
  },
  {
   "cell_type": "code",
   "execution_count": 11,
   "metadata": {},
   "outputs": [],
   "source": [
    "def breedPopulation(matingpool, eliteSize):\n",
    "    children = []\n",
    "    length = len(matingpool) - eliteSize\n",
    "    pool = random.sample(matingpool, len(matingpool))\n",
    "\n",
    "    for i in range(0,eliteSize):\n",
    "        children.append(matingpool[i])\n",
    "    \n",
    "    for i in range(0, length):\n",
    "        child = breed(pool[i], pool[len(matingpool)-i-1])\n",
    "        children.append(child)\n",
    "    return children"
   ]
  },
  {
   "cell_type": "markdown",
   "metadata": {},
   "source": [
    "Create function to mutate a single route"
   ]
  },
  {
   "cell_type": "code",
   "execution_count": 12,
   "metadata": {},
   "outputs": [],
   "source": [
    "def mutate(individual, mutationRate):\n",
    "    for swapped in range(len(individual)):\n",
    "        if(random.random() < mutationRate):\n",
    "            swapWith = int(random.random() * len(individual))\n",
    "            \n",
    "            city1 = individual[swapped]\n",
    "            city2 = individual[swapWith]\n",
    "            \n",
    "            individual[swapped] = city2\n",
    "            individual[swapWith] = city1\n",
    "    return individual"
   ]
  },
  {
   "cell_type": "markdown",
   "metadata": {},
   "source": [
    "Create function to run mutation over entire population"
   ]
  },
  {
   "cell_type": "code",
   "execution_count": 13,
   "metadata": {},
   "outputs": [],
   "source": [
    "def mutatePopulation(population, mutationRate):\n",
    "    mutatedPop = [population[0]]\n",
    "    \n",
    "    for ind in range(1, len(population)):\n",
    "        mutatedInd = mutate(population[ind], mutationRate)\n",
    "        mutatedPop.append(mutatedInd)\n",
    "    return mutatedPop"
   ]
  },
  {
   "cell_type": "markdown",
   "metadata": {},
   "source": [
    "Put all steps together to create the next generation"
   ]
  },
  {
   "cell_type": "code",
   "execution_count": 14,
   "metadata": {},
   "outputs": [],
   "source": [
    "def nextGeneration(currentGen, eliteSize, mutationRate):\n",
    "    popRanked = rankRoutes(currentGen)\n",
    "    selectionResults = selection(popRanked, eliteSize)\n",
    "    matingpool = matingPool(currentGen, selectionResults)\n",
    "    children = breedPopulation(matingpool, eliteSize)\n",
    "    nextGeneration = mutatePopulation(children, mutationRate)\n",
    "    return nextGeneration"
   ]
  },
  {
   "cell_type": "markdown",
   "metadata": {},
   "source": [
    "Final step: create the genetic algorithm"
   ]
  },
  {
   "cell_type": "code",
   "execution_count": 15,
   "metadata": {},
   "outputs": [],
   "source": [
    "def geneticAlgorithm(population, popSize, eliteSize, mutationRate, generations):\n",
    "    pop = initialPopulation(popSize, population)\n",
    "    print(\"Initial happiness: \" + str(rankRoutes(pop)[0][1]))\n",
    "    happiness = -float('inf')\n",
    "    best = {}\n",
    "    for i in range(0, generations):\n",
    "        print(i)\n",
    "        elite = rankRoutes(pop)[0]\n",
    "        ans = Fitness(pop[elite[0]])\n",
    "        if happiness < ans.routeFitness():\n",
    "            best = ans.result\n",
    "            happiness = elite[1]\n",
    "        print(\"best so far:\" + str(happiness))\n",
    "        print(elite[1])\n",
    "        print(ans.result)\n",
    "        pop = nextGeneration(pop, eliteSize, mutationRate)\n",
    "    \n",
    "    print(\"Final happiness: \" + str(happiness))\n",
    "    print(best)\n",
    "    return best"
   ]
  },
  {
   "cell_type": "markdown",
   "metadata": {},
   "source": [
    "# Inputs for Our Algorithm\n",
    "cityList is the student list."
   ]
  },
  {
   "cell_type": "code",
   "execution_count": null,
   "metadata": {},
   "outputs": [
    {
     "name": "stdout",
     "output_type": "stream",
     "text": [
      "Our happiness:11037.921999999999\n",
      "Initial happiness: 5383.481999999999\n",
      "0\n",
      "best so far:5383.481999999999\n",
      "5383.481999999999\n",
      "{39: 0, 38: 1, 20: 2, 9: 3, 13: 4, 48: 5, 42: 6, 29: 7, 41: 8, 3: 9, 7: 10, 37: 11, 32: 12, 33: 13, 45: 14, 18: 15, 24: 16, 26: 17, 10: 3, 14: 3, 49: 5, 35: 13, 28: 7, 17: 2, 16: 2, 30: 13, 31: 13, 1: 9, 21: 2, 46: 5, 5: 9, 34: 13, 11: 3, 8: 9, 23: 17, 19: 2, 6: 9, 4: 9, 40: 1, 47: 5, 27: 17, 36: 12, 25: 17, 2: 10, 15: 2, 44: 14, 0: 10, 43: 1, 22: 16, 12: 4}\n",
      "1\n",
      "best so far:6200.643999999999\n",
      "6200.643999999999\n",
      "{13: 0, 48: 1, 42: 2, 29: 3, 41: 4, 3: 5, 7: 6, 37: 7, 32: 8, 33: 9, 45: 10, 18: 11, 24: 12, 26: 13, 0: 14, 14: 15, 49: 1, 35: 9, 28: 3, 17: 11, 16: 11, 30: 9, 31: 9, 1: 5, 21: 11, 46: 1, 5: 5, 34: 9, 11: 15, 8: 5, 23: 13, 19: 11, 6: 5, 4: 5, 40: 4, 47: 1, 27: 13, 36: 8, 25: 13, 2: 6, 15: 11, 44: 10, 10: 15, 22: 12, 39: 4, 9: 15, 20: 11, 43: 4, 12: 0, 38: 4}\n",
      "2\n",
      "best so far:6200.643999999999\n",
      "6200.643999999999\n",
      "{13: 0, 48: 1, 42: 2, 29: 3, 41: 4, 3: 5, 7: 6, 37: 7, 32: 8, 33: 9, 45: 10, 18: 11, 24: 12, 26: 13, 0: 14, 14: 15, 49: 1, 35: 9, 28: 3, 17: 11, 16: 11, 30: 9, 31: 9, 1: 5, 21: 11, 46: 1, 5: 5, 34: 9, 11: 15, 8: 5, 23: 13, 19: 11, 6: 5, 4: 5, 40: 4, 47: 1, 27: 13, 36: 8, 25: 13, 2: 6, 15: 11, 44: 10, 10: 15, 22: 12, 39: 4, 9: 15, 20: 11, 43: 4, 12: 0, 38: 4}\n",
      "3\n",
      "best so far:6200.643999999999\n",
      "6200.643999999999\n",
      "{13: 0, 48: 1, 42: 2, 29: 3, 41: 4, 3: 5, 7: 6, 37: 7, 32: 8, 33: 9, 45: 10, 18: 11, 24: 12, 26: 13, 0: 14, 14: 15, 49: 1, 35: 9, 28: 3, 17: 11, 16: 11, 30: 9, 31: 9, 1: 5, 21: 11, 46: 1, 5: 5, 34: 9, 11: 15, 8: 5, 23: 13, 19: 11, 6: 5, 4: 5, 40: 4, 47: 1, 27: 13, 36: 8, 25: 13, 2: 6, 15: 11, 44: 10, 10: 15, 22: 12, 39: 4, 9: 15, 20: 11, 43: 4, 12: 0, 38: 4}\n",
      "4\n",
      "best so far:6200.643999999999\n",
      "6200.643999999999\n",
      "{13: 0, 48: 1, 42: 2, 29: 3, 41: 4, 3: 5, 7: 6, 37: 7, 32: 8, 33: 9, 45: 10, 18: 11, 24: 12, 26: 13, 0: 14, 14: 15, 49: 1, 35: 9, 28: 3, 17: 11, 16: 11, 30: 9, 31: 9, 1: 5, 21: 11, 46: 1, 5: 5, 34: 9, 11: 15, 8: 5, 23: 13, 19: 11, 6: 5, 4: 5, 40: 4, 47: 1, 27: 13, 36: 8, 25: 13, 2: 6, 15: 11, 44: 10, 10: 15, 22: 12, 39: 4, 9: 15, 20: 11, 43: 4, 12: 0, 38: 4}\n",
      "5\n",
      "best so far:6200.643999999999\n",
      "6200.643999999999\n",
      "{13: 0, 48: 1, 42: 2, 29: 3, 41: 4, 3: 5, 7: 6, 37: 7, 32: 8, 33: 9, 45: 10, 18: 11, 24: 12, 26: 13, 0: 14, 14: 15, 49: 1, 35: 9, 28: 3, 17: 11, 16: 11, 30: 9, 31: 9, 1: 5, 21: 11, 46: 1, 5: 5, 34: 9, 11: 15, 8: 5, 23: 13, 19: 11, 6: 5, 4: 5, 40: 4, 47: 1, 27: 13, 36: 8, 25: 13, 2: 6, 15: 11, 44: 10, 10: 15, 22: 12, 39: 4, 9: 15, 20: 11, 43: 4, 12: 0, 38: 4}\n",
      "6\n",
      "best so far:6200.643999999999\n",
      "6200.643999999999\n",
      "{13: 0, 48: 1, 42: 2, 29: 3, 41: 4, 3: 5, 7: 6, 37: 7, 32: 8, 33: 9, 45: 10, 18: 11, 24: 12, 26: 13, 0: 14, 14: 15, 49: 1, 35: 9, 28: 3, 17: 11, 16: 11, 30: 9, 31: 9, 1: 5, 21: 11, 46: 1, 5: 5, 34: 9, 11: 15, 8: 5, 23: 13, 19: 11, 6: 5, 4: 5, 40: 4, 47: 1, 27: 13, 36: 8, 25: 13, 2: 6, 15: 11, 44: 10, 10: 15, 22: 12, 39: 4, 9: 15, 20: 11, 43: 4, 12: 0, 38: 4}\n",
      "7\n",
      "best so far:11037.922\n",
      "11037.922\n",
      "{48: 0, 42: 1, 29: 2, 25: 3, 2: 4, 15: 5, 33: 6, 10: 7, 22: 3, 39: 1, 9: 7, 20: 5, 24: 3, 26: 3, 0: 4, 14: 7, 49: 0, 35: 6, 7: 4, 17: 5, 16: 5, 30: 6, 13: 7, 41: 1, 3: 4, 28: 2, 37: 1, 32: 6, 44: 0, 45: 0, 18: 5, 31: 6, 1: 4, 21: 5, 46: 0, 5: 4, 34: 6, 11: 7, 8: 4, 23: 3, 19: 5, 6: 4, 4: 4, 40: 1, 47: 0, 27: 3, 36: 6, 43: 1, 12: 7, 38: 1}\n",
      "8\n",
      "best so far:11037.922\n",
      "11037.922\n",
      "{48: 0, 42: 1, 29: 2, 25: 3, 2: 4, 15: 5, 33: 6, 10: 7, 22: 3, 39: 1, 9: 7, 20: 5, 24: 3, 26: 3, 0: 4, 14: 7, 49: 0, 35: 6, 7: 4, 17: 5, 16: 5, 30: 6, 13: 7, 41: 1, 3: 4, 28: 2, 37: 1, 32: 6, 44: 0, 45: 0, 18: 5, 31: 6, 1: 4, 21: 5, 46: 0, 5: 4, 34: 6, 11: 7, 8: 4, 23: 3, 19: 5, 6: 4, 4: 4, 40: 1, 47: 0, 27: 3, 36: 6, 43: 1, 12: 7, 38: 1}\n",
      "9\n",
      "best so far:11037.922\n",
      "11037.922\n",
      "{48: 0, 42: 1, 29: 2, 25: 3, 2: 4, 15: 5, 33: 6, 10: 7, 22: 3, 39: 1, 9: 7, 20: 5, 24: 3, 26: 3, 0: 4, 14: 7, 49: 0, 35: 6, 7: 4, 17: 5, 16: 5, 30: 6, 13: 7, 41: 1, 3: 4, 28: 2, 37: 1, 32: 6, 44: 0, 45: 0, 18: 5, 31: 6, 1: 4, 21: 5, 46: 0, 5: 4, 34: 6, 11: 7, 8: 4, 23: 3, 19: 5, 6: 4, 4: 4, 40: 1, 47: 0, 27: 3, 36: 6, 43: 1, 12: 7, 38: 1}\n",
      "10\n",
      "best so far:11037.922\n",
      "11037.922\n",
      "{48: 0, 42: 1, 29: 2, 25: 3, 2: 4, 15: 5, 33: 6, 10: 7, 22: 3, 39: 1, 9: 7, 20: 5, 24: 3, 26: 3, 0: 4, 14: 7, 49: 0, 35: 6, 7: 4, 17: 5, 16: 5, 30: 6, 13: 7, 41: 1, 3: 4, 28: 2, 37: 1, 32: 6, 44: 0, 45: 0, 18: 5, 31: 6, 1: 4, 21: 5, 46: 0, 5: 4, 34: 6, 11: 7, 8: 4, 23: 3, 19: 5, 6: 4, 4: 4, 40: 1, 47: 0, 27: 3, 36: 6, 43: 1, 12: 7, 38: 1}\n",
      "11\n",
      "best so far:11037.922\n",
      "11037.922\n",
      "{48: 0, 42: 1, 29: 2, 25: 3, 2: 4, 15: 5, 33: 6, 10: 7, 22: 3, 39: 1, 9: 7, 20: 5, 24: 3, 26: 3, 0: 4, 14: 7, 49: 0, 35: 6, 7: 4, 17: 5, 16: 5, 30: 6, 13: 7, 41: 1, 3: 4, 28: 2, 37: 1, 32: 6, 44: 0, 45: 0, 18: 5, 31: 6, 1: 4, 21: 5, 46: 0, 5: 4, 34: 6, 11: 7, 8: 4, 23: 3, 19: 5, 6: 4, 4: 4, 40: 1, 47: 0, 27: 3, 36: 6, 43: 1, 12: 7, 38: 1}\n",
      "12\n",
      "best so far:11037.922\n",
      "11037.922\n",
      "{48: 0, 42: 1, 29: 2, 25: 3, 2: 4, 15: 5, 33: 6, 10: 7, 22: 3, 39: 1, 9: 7, 20: 5, 24: 3, 26: 3, 0: 4, 14: 7, 49: 0, 35: 6, 7: 4, 17: 5, 16: 5, 30: 6, 13: 7, 41: 1, 3: 4, 28: 2, 37: 1, 32: 6, 44: 0, 45: 0, 18: 5, 31: 6, 1: 4, 21: 5, 46: 0, 5: 4, 34: 6, 11: 7, 8: 4, 23: 3, 19: 5, 6: 4, 4: 4, 40: 1, 47: 0, 27: 3, 36: 6, 43: 1, 12: 7, 38: 1}\n",
      "13\n",
      "best so far:11037.922\n",
      "11037.922\n",
      "{48: 0, 42: 1, 29: 2, 25: 3, 2: 4, 15: 5, 33: 6, 10: 7, 22: 3, 39: 1, 9: 7, 20: 5, 24: 3, 26: 3, 0: 4, 14: 7, 49: 0, 35: 6, 7: 4, 17: 5, 16: 5, 30: 6, 13: 7, 41: 1, 3: 4, 28: 2, 37: 1, 32: 6, 44: 0, 45: 0, 18: 5, 31: 6, 1: 4, 21: 5, 46: 0, 5: 4, 34: 6, 11: 7, 8: 4, 23: 3, 19: 5, 6: 4, 4: 4, 40: 1, 47: 0, 27: 3, 36: 6, 43: 1, 12: 7, 38: 1}\n"
     ]
    }
   ],
   "source": [
    "path = \"50.in\" #change the input path here\n",
    "pathout = \"50.out\"\n",
    "G, s = read_input_file(path)\n",
    "D = read_output_file(pathout, G, s)\n",
    "print(\"Our happiness:\" + str(calculate_happiness(D, G)))\n",
    "lst = list(G.nodes)\n",
    "cityList = lst\n",
    "random.shuffle(lst)\n",
    "geneticAlgorithm(population=cityList, popSize=15, eliteSize=2, mutationRate=0.02, generations=1000) #adjust hyper parameter"
   ]
  },
  {
   "cell_type": "markdown",
   "metadata": {},
   "source": [
    "## Running the genetic algorithm"
   ]
  },
  {
   "cell_type": "markdown",
   "metadata": {},
   "source": [
    "Create list of cities"
   ]
  },
  {
   "cell_type": "code",
   "execution_count": 17,
   "metadata": {},
   "outputs": [],
   "source": [
    "cityList = []\n",
    "\n",
    "for i in range(0,25):\n",
    "    cityList.append(City(x=int(random.random() * 200), y=int(random.random() * 200)))"
   ]
  },
  {
   "cell_type": "markdown",
   "metadata": {},
   "source": [
    "Run the genetic algorithm"
   ]
  },
  {
   "cell_type": "code",
   "execution_count": 18,
   "metadata": {},
   "outputs": [
    {
     "name": "stdout",
     "output_type": "stream",
     "text": [
      "Initial distance: 2249.7240306428266\n",
      "Final distance: 804.4841773781344\n"
     ]
    },
    {
     "data": {
      "text/plain": [
       "[(163,56),\n",
       " (140,97),\n",
       " (177,120),\n",
       " (187,141),\n",
       " (134,172),\n",
       " (113,170),\n",
       " (69,159),\n",
       " (46,194),\n",
       " (36,196),\n",
       " (14,184),\n",
       " (37,176),\n",
       " (45,152),\n",
       " (50,153),\n",
       " (68,116),\n",
       " (77,85),\n",
       " (29,72),\n",
       " (27,64),\n",
       " (71,50),\n",
       " (54,20),\n",
       " (59,3),\n",
       " (105,32),\n",
       " (135,38),\n",
       " (167,14),\n",
       " (192,14),\n",
       " (174,43)]"
      ]
     },
     "execution_count": 18,
     "metadata": {},
     "output_type": "execute_result"
    }
   ],
   "source": [
    "geneticAlgorithm(population=cityList, popSize=100, eliteSize=20, mutationRate=0.01, generations=500)"
   ]
  },
  {
   "cell_type": "markdown",
   "metadata": {},
   "source": [
    "## Plot the progress"
   ]
  },
  {
   "cell_type": "markdown",
   "metadata": {},
   "source": [
    "Note, this will win run a separate GA"
   ]
  },
  {
   "cell_type": "code",
   "execution_count": null,
   "metadata": {},
   "outputs": [],
   "source": [
    "def geneticAlgorithmPlot(population, popSize, eliteSize, mutationRate, generations):\n",
    "    pop = initialPopulation(popSize, population)\n",
    "    progress = []\n",
    "    progress.append(rankRoutes(pop)[0][1])\n",
    "    \n",
    "    for i in range(0, generations):\n",
    "        pop = nextGeneration(pop, eliteSize, mutationRate)\n",
    "        progress.append(rankRoutes(pop)[0][1])\n",
    "    \n",
    "    plt.plot(progress)\n",
    "    plt.ylabel('Distance')\n",
    "    plt.xlabel('Generation')\n",
    "    plt.show()"
   ]
  },
  {
   "cell_type": "markdown",
   "metadata": {},
   "source": [
    "Run the function with our assumptions to see how distance has improved in each generation"
   ]
  },
  {
   "cell_type": "code",
   "execution_count": null,
   "metadata": {},
   "outputs": [],
   "source": [
    "geneticAlgorithmPlot(population=cityList, popSize=100, eliteSize=20, mutationRate=0.01, generations=1000)"
   ]
  },
  {
   "cell_type": "code",
   "execution_count": null,
   "metadata": {},
   "outputs": [],
   "source": []
  }
 ],
 "metadata": {
  "kernelspec": {
   "display_name": "Python 3",
   "language": "python",
   "name": "python3"
  },
  "language_info": {
   "codemirror_mode": {
    "name": "ipython",
    "version": 3
   },
   "file_extension": ".py",
   "mimetype": "text/x-python",
   "name": "python",
   "nbconvert_exporter": "python",
   "pygments_lexer": "ipython3",
   "version": "3.7.4"
  }
 },
 "nbformat": 4,
 "nbformat_minor": 2
}
