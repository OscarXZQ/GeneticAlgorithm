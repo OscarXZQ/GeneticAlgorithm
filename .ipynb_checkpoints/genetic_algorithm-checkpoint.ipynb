{
 "cells": [
  {
   "cell_type": "code",
   "execution_count": 1,
   "metadata": {},
   "outputs": [
    {
     "name": "stderr",
     "output_type": "stream",
     "text": [
      "\n",
      "Bad key \"text.kerning_factor\" on line 4 in\n",
      "/home/drillthewall/miniconda3/lib/python3.7/site-packages/matplotlib/mpl-data/stylelib/_classic_test_patch.mplstyle.\n",
      "You probably need to get an updated matplotlibrc file from\n",
      "https://github.com/matplotlib/matplotlib/blob/v3.1.3/matplotlibrc.template\n",
      "or from the matplotlib source distribution\n"
     ]
    }
   ],
   "source": [
    "import numpy as np, random, operator, pandas as pd, matplotlib.pyplot as plt\n",
    "import networkx as nx\n",
    "from parse import read_input_file, write_output_file, read_output_file\n",
    "from utils import is_valid_solution, calculate_happiness, calculate_stress_for_room\n",
    "from utils import convert_dictionary\n",
    "import sys"
   ]
  },
  {
   "cell_type": "code",
   "execution_count": null,
   "metadata": {},
   "outputs": [],
   "source": []
  },
  {
   "cell_type": "markdown",
   "metadata": {},
   "source": [
    "## Create necessary classes and functions"
   ]
  },
  {
   "cell_type": "markdown",
   "metadata": {},
   "source": [
    "Create class to handle \"cities\""
   ]
  },
  {
   "cell_type": "code",
   "execution_count": 2,
   "metadata": {},
   "outputs": [],
   "source": [
    "class City:\n",
    "    def __init__(self, x, y):\n",
    "        self.x = x\n",
    "        self.y = y\n",
    "    \n",
    "    def distance(self, city):\n",
    "        xDis = abs(self.x - city.x)\n",
    "        yDis = abs(self.y - city.y)\n",
    "        distance = np.sqrt((xDis ** 2) + (yDis ** 2))\n",
    "        return distance\n",
    "    \n",
    "    def __repr__(self):\n",
    "        return \"(\" + str(self.x) + \",\" + str(self.y) + \")\""
   ]
  },
  {
   "cell_type": "markdown",
   "metadata": {},
   "source": [
    "Create a fitness function"
   ]
  },
  {
   "cell_type": "code",
   "execution_count": 3,
   "metadata": {},
   "outputs": [],
   "source": [
    "class Fitness: #need to add the output for our result\n",
    "    def __init__(self, route):\n",
    "        self.route = route\n",
    "        self.distance = 0\n",
    "        self.fitness= 0.0\n",
    "        self.result = {}\n",
    "    \n",
    "    def routeDistance(self): #calculate the stress level and happiness here\n",
    "        for k in range(1, len(self.route)):\n",
    "            D = {} #student to room\n",
    "            group_list = [ [] for _ in range(k)]\n",
    "            for i in range(k):\n",
    "                D[self.route[i]] = i\n",
    "                group_list[i].append(self.route[i])\n",
    "            for i in range(k, len(self.route)):\n",
    "                cur = self.route[i]\n",
    "                # print(type(cur_node), cur_node)\n",
    "                mini = float('inf')\n",
    "                maxi = -float('inf')\n",
    "                cur_group = None\n",
    "                stress_group = None\n",
    "                stress_out = False\n",
    "                for group_num, group in enumerate(group_list):\n",
    "                    happiness = sum(G[cur][other_person]['happiness'] for other_person in group if G.has_edge(cur, other_person))\n",
    "                    group_copy = list(group)\n",
    "                    group_copy.append(cur)\n",
    "                    stress = calculate_stress_for_room(group_copy, G)\n",
    "                    if stress < mini:\n",
    "                        mini = stress\n",
    "                        stress_group = group_num\n",
    "                    if stress > s/k:\n",
    "                        continue\n",
    "                    if happiness > maxi:\n",
    "                        cur_group = group_num\n",
    "                        maxi = happiness # we can add tiebreaking here\n",
    "                if cur_group == None:\n",
    "                    cur_group = stress_group\n",
    "                    stress_out = True\n",
    "                D[cur] = cur_group\n",
    "                group_list[cur_group].append(cur)\n",
    "            if is_valid_solution(D, G, s, k):\n",
    "                cur_val = calculate_happiness(D, G)\n",
    "                self.result = D\n",
    "                return cur_val\n",
    "        return -1\n",
    "    \n",
    "    def routeFitness(self):\n",
    "        if self.fitness == 0:\n",
    "            self.fitness = float(self.routeDistance())\n",
    "        return self.fitness"
   ]
  },
  {
   "cell_type": "markdown",
   "metadata": {},
   "source": [
    "## Create our initial population"
   ]
  },
  {
   "cell_type": "markdown",
   "metadata": {},
   "source": [
    "Route generator"
   ]
  },
  {
   "cell_type": "code",
   "execution_count": 4,
   "metadata": {},
   "outputs": [],
   "source": [
    "def createRoute(cityList):\n",
    "    route = random.sample(cityList, len(cityList))\n",
    "    return route"
   ]
  },
  {
   "cell_type": "markdown",
   "metadata": {},
   "source": [
    "Create first \"population\" (list of routes)"
   ]
  },
  {
   "cell_type": "code",
   "execution_count": 5,
   "metadata": {},
   "outputs": [],
   "source": [
    "def initialPopulation(popSize, cityList):\n",
    "    population = []\n",
    "\n",
    "    for i in range(0, popSize):\n",
    "        population.append(createRoute(cityList))\n",
    "    return population"
   ]
  },
  {
   "cell_type": "markdown",
   "metadata": {},
   "source": [
    "## Create the genetic algorithm"
   ]
  },
  {
   "cell_type": "markdown",
   "metadata": {},
   "source": [
    "Rank individuals"
   ]
  },
  {
   "cell_type": "code",
   "execution_count": 6,
   "metadata": {},
   "outputs": [],
   "source": [
    "def rankRoutes(population):\n",
    "    fitnessResults = {}\n",
    "    for i in range(0,len(population)):\n",
    "        fitnessResults[i] = Fitness(population[i]).routeFitness()\n",
    "    return sorted(fitnessResults.items(), key = operator.itemgetter(1), reverse = True)"
   ]
  },
  {
   "cell_type": "markdown",
   "metadata": {},
   "source": [
    "Create a selection function that will be used to make the list of parent routes"
   ]
  },
  {
   "cell_type": "code",
   "execution_count": 7,
   "metadata": {},
   "outputs": [],
   "source": [
    "def selection(popRanked, eliteSize):\n",
    "    selectionResults = []\n",
    "    df = pd.DataFrame(np.array(popRanked), columns=[\"Index\",\"Fitness\"])\n",
    "    df['cum_sum'] = df.Fitness.cumsum()\n",
    "    df['cum_perc'] = 100*df.cum_sum/df.Fitness.sum()\n",
    "    \n",
    "    for i in range(0, eliteSize):\n",
    "        selectionResults.append(popRanked[i][0])\n",
    "    for i in range(0, len(popRanked) - eliteSize):\n",
    "        pick = 100*random.random()\n",
    "        for i in range(0, len(popRanked)):\n",
    "            if pick <= df.iat[i,3]:\n",
    "                selectionResults.append(popRanked[i][0])\n",
    "                break\n",
    "    return selectionResults"
   ]
  },
  {
   "cell_type": "markdown",
   "metadata": {},
   "source": [
    "Create mating pool"
   ]
  },
  {
   "cell_type": "code",
   "execution_count": 8,
   "metadata": {},
   "outputs": [],
   "source": [
    "def matingPool(population, selectionResults):\n",
    "    matingpool = []\n",
    "    for i in range(0, len(selectionResults)):\n",
    "        index = selectionResults[i]\n",
    "        matingpool.append(population[index])\n",
    "    return matingpool"
   ]
  },
  {
   "cell_type": "markdown",
   "metadata": {},
   "source": [
    "Create a crossover function for two parents to create one child"
   ]
  },
  {
   "cell_type": "code",
   "execution_count": 9,
   "metadata": {},
   "outputs": [],
   "source": [
    "def breed(parent1, parent2):\n",
    "    child = []\n",
    "    childP1 = []\n",
    "    childP2 = []\n",
    "    \n",
    "    geneA = int(random.random() * len(parent1))\n",
    "    geneB = int(random.random() * len(parent1))\n",
    "    \n",
    "    startGene = min(geneA, geneB)\n",
    "    endGene = max(geneA, geneB)\n",
    "\n",
    "    for i in range(startGene, endGene):\n",
    "        childP1.append(parent1[i])\n",
    "        \n",
    "    childP2 = [item for item in parent2 if item not in childP1]\n",
    "\n",
    "    child = childP1 + childP2\n",
    "    return child"
   ]
  },
  {
   "cell_type": "markdown",
   "metadata": {},
   "source": [
    "Create function to run crossover over full mating pool"
   ]
  },
  {
   "cell_type": "code",
   "execution_count": 10,
   "metadata": {},
   "outputs": [],
   "source": [
    "def breedPopulation(matingpool, eliteSize):\n",
    "    children = []\n",
    "    length = len(matingpool) - eliteSize\n",
    "    pool = random.sample(matingpool, len(matingpool))\n",
    "\n",
    "    for i in range(0,eliteSize):\n",
    "        children.append(matingpool[i])\n",
    "    \n",
    "    for i in range(0, length):\n",
    "        child = breed(pool[i], pool[len(matingpool)-i-1])\n",
    "        children.append(child)\n",
    "    return children"
   ]
  },
  {
   "cell_type": "markdown",
   "metadata": {},
   "source": [
    "Create function to mutate a single route"
   ]
  },
  {
   "cell_type": "code",
   "execution_count": 11,
   "metadata": {},
   "outputs": [],
   "source": [
    "def mutate(individual, mutationRate):\n",
    "    for swapped in range(len(individual)):\n",
    "        if(random.random() < mutationRate):\n",
    "            swapWith = int(random.random() * len(individual))\n",
    "            \n",
    "            city1 = individual[swapped]\n",
    "            city2 = individual[swapWith]\n",
    "            \n",
    "            individual[swapped] = city2\n",
    "            individual[swapWith] = city1\n",
    "    return individual"
   ]
  },
  {
   "cell_type": "markdown",
   "metadata": {},
   "source": [
    "Create function to run mutation over entire population"
   ]
  },
  {
   "cell_type": "code",
   "execution_count": 12,
   "metadata": {},
   "outputs": [],
   "source": [
    "def mutatePopulation(population, mutationRate):\n",
    "    mutatedPop = [population[0]]\n",
    "    \n",
    "    for ind in range(1, len(population)):\n",
    "        mutatedInd = mutate(population[ind], mutationRate)\n",
    "        mutatedPop.append(mutatedInd)\n",
    "    return mutatedPop"
   ]
  },
  {
   "cell_type": "markdown",
   "metadata": {},
   "source": [
    "Put all steps together to create the next generation"
   ]
  },
  {
   "cell_type": "code",
   "execution_count": 13,
   "metadata": {},
   "outputs": [],
   "source": [
    "def nextGeneration(currentGen, eliteSize, mutationRate):\n",
    "    popRanked = rankRoutes(currentGen)\n",
    "    selectionResults = selection(popRanked, eliteSize)\n",
    "    matingpool = matingPool(currentGen, selectionResults)\n",
    "    children = breedPopulation(matingpool, eliteSize)\n",
    "    nextGeneration = mutatePopulation(children, mutationRate)\n",
    "    return nextGeneration"
   ]
  },
  {
   "cell_type": "markdown",
   "metadata": {},
   "source": [
    "Final step: create the genetic algorithm"
   ]
  },
  {
   "cell_type": "code",
   "execution_count": 14,
   "metadata": {},
   "outputs": [],
   "source": [
    "def geneticAlgorithm(population, popSize, eliteSize, mutationRate, generations):\n",
    "    pop = initialPopulation(popSize, population)\n",
    "    print(\"Initial happiness: \" + str(rankRoutes(pop)[0][1]))\n",
    "    happiness = -float('inf')\n",
    "    best = {}\n",
    "    for i in range(0, generations):\n",
    "        print(i)\n",
    "        elite = rankRoutes(pop)[0]\n",
    "        ans = Fitness(pop[elite[0]])\n",
    "        if happiness < ans.routeFitness():\n",
    "            best = ans.result\n",
    "            happiness = elite[1]\n",
    "        print(\"best so far:\" + str(happiness))\n",
    "        print(elite[1])\n",
    "        print(ans.result)\n",
    "        pop = nextGeneration(pop, eliteSize, mutationRate)\n",
    "    \n",
    "    print(\"Final happiness: \" + str(happiness))\n",
    "    print(best)\n",
    "    return best"
   ]
  },
  {
   "cell_type": "markdown",
   "metadata": {},
   "source": [
    "# Inputs for Our Algorithm\n",
    "cityList is the student list."
   ]
  },
  {
   "cell_type": "code",
   "execution_count": 15,
   "metadata": {},
   "outputs": [
    {
     "name": "stdout",
     "output_type": "stream",
     "text": [
      "Initial happiness: 5952.62\n",
      "0\n",
      "best so far:5952.62\n",
      "5952.62\n",
      "{49: 0, 40: 1, 14: 2, 23: 3, 16: 4, 0: 5, 35: 6, 30: 7, 20: 8, 8: 9, 15: 10, 11: 3, 27: 7, 5: 3, 26: 7, 6: 3, 36: 7, 38: 7, 43: 6, 17: 6, 29: 6, 25: 6, 39: 0, 33: 0, 4: 8, 7: 0, 24: 8, 1: 8, 48: 8, 46: 0, 31: 5, 34: 5, 22: 1, 3: 1, 13: 9, 47: 1, 44: 5, 37: 9, 41: 9, 12: 10, 2: 10, 32: 10, 45: 3, 42: 4, 9: 10, 21: 2, 28: 4, 10: 4, 19: 2, 18: 2}\n",
      "1\n",
      "best so far:6007.030000000001\n",
      "6007.030000000001\n",
      "{10: 0, 11: 1, 36: 2, 23: 3, 34: 4, 48: 5, 31: 6, 19: 7, 20: 8, 47: 9, 32: 9, 49: 9, 40: 9, 14: 6, 16: 6, 0: 6, 35: 5, 30: 2, 8: 2, 15: 2, 29: 5, 27: 5, 5: 4, 26: 4, 6: 4, 38: 5, 43: 3, 17: 4, 25: 7, 39: 7, 33: 7, 4: 7, 7: 3, 24: 7, 1: 6, 46: 3, 22: 3, 3: 8, 13: 8, 44: 8, 37: 0, 41: 0, 12: 0, 2: 0, 45: 1, 42: 1, 9: 8, 21: 1, 28: 1, 18: 9}\n",
      "2\n",
      "best so far:6007.030000000001\n",
      "6007.030000000001\n",
      "{10: 0, 11: 1, 36: 2, 23: 3, 34: 4, 48: 5, 31: 6, 19: 7, 20: 8, 47: 9, 32: 9, 49: 9, 40: 9, 14: 6, 16: 6, 0: 6, 35: 5, 30: 2, 8: 2, 15: 2, 29: 5, 27: 5, 5: 4, 26: 4, 6: 4, 38: 5, 43: 3, 17: 4, 25: 7, 39: 7, 33: 7, 4: 7, 7: 3, 24: 7, 1: 6, 46: 3, 22: 3, 3: 8, 13: 8, 44: 8, 37: 0, 41: 0, 12: 0, 2: 0, 45: 1, 42: 1, 9: 8, 21: 1, 28: 1, 18: 9}\n",
      "3\n",
      "best so far:6051.610000000001\n",
      "6051.610000000001\n",
      "{23: 0, 37: 1, 30: 2, 10: 3, 11: 4, 36: 5, 34: 6, 48: 7, 31: 8, 19: 9, 20: 3, 47: 2, 32: 2, 49: 2, 40: 3, 14: 3, 16: 3, 0: 9, 35: 7, 8: 7, 15: 2, 29: 7, 27: 7, 5: 9, 26: 9, 6: 9, 38: 1, 43: 0, 17: 1, 25: 1, 39: 1, 33: 4, 4: 1, 7: 0, 24: 0, 1: 6, 46: 0, 22: 6, 3: 6, 13: 4, 44: 4, 41: 8, 12: 5, 2: 5, 45: 6, 42: 5, 9: 5, 21: 8, 28: 8, 18: 8}\n",
      "4\n",
      "best so far:6144.15\n",
      "6144.15\n",
      "{43: 0, 17: 1, 25: 2, 39: 3, 33: 4, 4: 5, 7: 6, 24: 7, 1: 8, 46: 9, 22: 3, 3: 3, 13: 3, 44: 5, 41: 6, 12: 5, 2: 5, 45: 8, 42: 6, 9: 5, 19: 6, 31: 1, 47: 3, 34: 8, 0: 8, 6: 8, 14: 6, 32: 1, 35: 1, 38: 4, 21: 4, 36: 4, 20: 9, 40: 9, 15: 1, 23: 9, 49: 9, 16: 2, 11: 2, 48: 2, 5: 2, 29: 7, 30: 4, 8: 7, 28: 7, 37: 0, 26: 0, 27: 0, 10: 0, 18: 9}\n",
      "5\n",
      "best so far:6144.15\n",
      "6144.15\n",
      "{43: 0, 17: 1, 25: 2, 39: 3, 33: 4, 4: 5, 7: 6, 24: 7, 1: 8, 46: 9, 22: 3, 3: 3, 13: 3, 44: 5, 41: 6, 12: 5, 2: 5, 45: 8, 42: 6, 9: 5, 19: 6, 31: 1, 47: 3, 34: 8, 0: 8, 6: 8, 14: 6, 32: 1, 35: 1, 38: 4, 21: 4, 36: 4, 20: 9, 40: 9, 15: 1, 23: 9, 49: 9, 16: 2, 11: 2, 48: 2, 5: 2, 29: 7, 30: 4, 8: 7, 28: 7, 37: 0, 26: 0, 27: 0, 10: 0, 18: 9}\n",
      "6\n",
      "best so far:6150.219999999999\n",
      "6150.219999999999\n",
      "{19: 0, 20: 1, 47: 2, 32: 3, 49: 4, 40: 5, 14: 6, 16: 7, 0: 8, 35: 9, 8: 4, 15: 4, 29: 4, 27: 2, 5: 8, 26: 2, 6: 8, 38: 2, 43: 3, 17: 2, 28: 8, 39: 8, 33: 5, 4: 3, 7: 3, 24: 3, 1: 8, 46: 6, 22: 6, 3: 5, 13: 6, 44: 5, 41: 9, 12: 6, 2: 9, 45: 1, 25: 9, 42: 9, 9: 7, 31: 0, 34: 1, 21: 0, 36: 0, 23: 0, 11: 1, 48: 5, 30: 7, 37: 7, 10: 7, 18: 1}\n",
      "7\n",
      "best so far:6170.0\n",
      "6170.0\n",
      "{7: 0, 40: 1, 1: 2, 23: 3, 49: 4, 42: 5, 28: 6, 43: 7, 17: 8, 25: 9, 39: 0, 33: 0, 4: 2, 24: 2, 46: 0, 22: 2, 3: 2, 13: 0, 44: 4, 41: 6, 12: 6, 2: 6, 45: 3, 9: 6, 19: 4, 31: 4, 47: 4, 34: 3, 0: 3, 6: 3, 14: 8, 32: 8, 35: 8, 38: 8, 21: 7, 36: 1, 20: 2, 15: 9, 16: 1, 11: 1, 48: 1, 5: 9, 29: 9, 30: 5, 8: 7, 37: 7, 26: 9, 27: 7, 10: 5, 18: 5}\n",
      "8\n",
      "best so far:6375.57\n",
      "6375.57\n",
      "{7: 0, 24: 1, 11: 2, 9: 3, 32: 4, 31: 5, 47: 6, 34: 7, 0: 8, 6: 9, 14: 0, 19: 9, 35: 9, 38: 9, 21: 0, 36: 0, 20: 9, 40: 0, 15: 4, 23: 2, 49: 2, 16: 6, 29: 2, 48: 1, 5: 8, 1: 7, 30: 1, 43: 1, 17: 8, 25: 4, 39: 4, 33: 4, 4: 7, 46: 2, 22: 7, 3: 1, 13: 6, 44: 8, 41: 7, 12: 6, 2: 3, 45: 3, 42: 5, 8: 3, 28: 6, 37: 8, 26: 5, 27: 4, 10: 3, 18: 5}\n",
      "9\n",
      "best so far:6375.57\n",
      "6375.57\n",
      "{7: 0, 24: 1, 11: 2, 9: 3, 32: 4, 31: 5, 47: 6, 34: 7, 0: 8, 6: 9, 14: 0, 19: 9, 35: 9, 38: 9, 21: 0, 36: 0, 20: 9, 40: 0, 15: 4, 23: 2, 49: 2, 16: 6, 29: 2, 48: 1, 5: 8, 1: 7, 30: 1, 43: 1, 17: 8, 25: 4, 39: 4, 33: 4, 4: 7, 46: 2, 22: 7, 3: 1, 13: 6, 44: 8, 41: 7, 12: 6, 2: 3, 45: 3, 42: 5, 8: 3, 28: 6, 37: 8, 26: 5, 27: 4, 10: 3, 18: 5}\n",
      "10\n",
      "best so far:6375.57\n",
      "6375.57\n",
      "{7: 0, 24: 1, 11: 2, 9: 3, 32: 4, 31: 5, 47: 6, 34: 7, 0: 8, 6: 9, 14: 0, 19: 9, 35: 9, 38: 9, 21: 0, 36: 0, 20: 9, 40: 0, 15: 4, 23: 2, 49: 2, 16: 6, 29: 2, 48: 1, 5: 8, 1: 7, 30: 1, 43: 1, 17: 8, 25: 4, 39: 4, 33: 4, 4: 7, 46: 2, 22: 7, 3: 1, 13: 6, 44: 8, 41: 7, 12: 6, 2: 3, 45: 3, 42: 5, 8: 3, 28: 6, 37: 8, 26: 5, 27: 4, 10: 3, 18: 5}\n",
      "11\n",
      "best so far:6579.66\n",
      "6579.66\n",
      "{38: 0, 44: 1, 47: 2, 45: 3, 0: 4, 37: 5, 28: 6, 39: 7, 14: 8, 23: 9, 49: 9, 16: 2, 29: 9, 8: 9, 41: 6, 40: 2, 33: 2, 17: 6, 27: 9, 7: 6, 24: 4, 9: 6, 34: 3, 35: 4, 36: 0, 15: 3, 30: 0, 43: 4, 46: 0, 3: 3, 11: 1, 32: 3, 31: 1, 6: 1, 19: 1, 21: 8, 20: 0, 48: 2, 5: 7, 1: 8, 25: 8, 4: 8, 22: 7, 13: 4, 12: 7, 2: 7, 42: 5, 26: 5, 10: 5, 18: 5}\n",
      "12\n",
      "best so far:6579.66\n",
      "6579.66\n",
      "{38: 0, 44: 1, 47: 2, 45: 3, 0: 4, 37: 5, 28: 6, 39: 7, 14: 8, 23: 9, 49: 9, 16: 2, 29: 9, 8: 9, 41: 6, 40: 2, 33: 2, 17: 6, 27: 9, 7: 6, 24: 4, 9: 6, 34: 3, 35: 4, 36: 0, 15: 3, 30: 0, 43: 4, 46: 0, 3: 3, 11: 1, 32: 3, 31: 1, 6: 1, 19: 1, 21: 8, 20: 0, 48: 2, 5: 7, 1: 8, 25: 8, 4: 8, 22: 7, 13: 4, 12: 7, 2: 7, 42: 5, 26: 5, 10: 5, 18: 5}\n",
      "13\n",
      "best so far:6579.66\n",
      "6579.66\n",
      "{38: 0, 44: 1, 47: 2, 45: 3, 0: 4, 37: 5, 28: 6, 39: 7, 14: 8, 23: 9, 49: 9, 16: 2, 29: 9, 8: 9, 41: 6, 40: 2, 33: 2, 17: 6, 27: 9, 7: 6, 24: 4, 9: 6, 34: 3, 35: 4, 36: 0, 15: 3, 30: 0, 43: 4, 46: 0, 3: 3, 11: 1, 32: 3, 31: 1, 6: 1, 19: 1, 21: 8, 20: 0, 48: 2, 5: 7, 1: 8, 25: 8, 4: 8, 22: 7, 13: 4, 12: 7, 2: 7, 42: 5, 26: 5, 10: 5, 18: 5}\n",
      "14\n",
      "best so far:6579.66\n",
      "6579.66\n",
      "{38: 0, 44: 1, 47: 2, 45: 3, 0: 4, 37: 5, 28: 6, 39: 7, 14: 8, 23: 9, 49: 9, 16: 2, 29: 9, 8: 9, 41: 6, 40: 2, 33: 2, 17: 6, 27: 9, 7: 6, 24: 4, 9: 6, 34: 3, 35: 4, 36: 0, 15: 3, 30: 0, 43: 4, 46: 0, 3: 3, 11: 1, 32: 3, 31: 1, 6: 1, 19: 1, 21: 8, 20: 0, 48: 2, 5: 7, 1: 8, 25: 8, 4: 8, 22: 7, 13: 4, 12: 7, 2: 7, 42: 5, 26: 5, 10: 5, 18: 5}\n",
      "15\n",
      "best so far:6579.66\n",
      "6579.66\n",
      "{38: 0, 44: 1, 47: 2, 45: 3, 0: 4, 37: 5, 28: 6, 39: 7, 14: 8, 23: 9, 49: 9, 16: 2, 29: 9, 8: 9, 41: 6, 40: 2, 33: 2, 17: 6, 27: 9, 7: 6, 24: 4, 9: 6, 34: 3, 35: 4, 36: 0, 15: 3, 30: 0, 43: 4, 46: 0, 3: 3, 11: 1, 32: 3, 31: 1, 6: 1, 19: 1, 21: 8, 20: 0, 48: 2, 5: 7, 1: 8, 25: 8, 4: 8, 22: 7, 13: 4, 12: 7, 2: 7, 42: 5, 26: 5, 10: 5, 18: 5}\n",
      "16\n",
      "best so far:6579.66\n",
      "6579.66\n",
      "{38: 0, 44: 1, 47: 2, 45: 3, 0: 4, 37: 5, 28: 6, 39: 7, 14: 8, 23: 9, 49: 9, 16: 2, 29: 9, 8: 9, 41: 6, 40: 2, 33: 2, 17: 6, 27: 9, 7: 6, 24: 4, 9: 6, 34: 3, 35: 4, 36: 0, 15: 3, 30: 0, 43: 4, 46: 0, 3: 3, 11: 1, 32: 3, 31: 1, 6: 1, 19: 1, 21: 8, 20: 0, 48: 2, 5: 7, 1: 8, 25: 8, 4: 8, 22: 7, 13: 4, 12: 7, 2: 7, 42: 5, 26: 5, 10: 5, 18: 5}\n",
      "17\n",
      "best so far:6579.66\n",
      "6579.66\n",
      "{38: 0, 44: 1, 47: 2, 45: 3, 0: 4, 37: 5, 28: 6, 39: 7, 14: 8, 23: 9, 49: 9, 16: 2, 29: 9, 8: 9, 41: 6, 40: 2, 33: 2, 17: 6, 27: 9, 7: 6, 24: 4, 9: 6, 34: 3, 35: 4, 36: 0, 15: 3, 30: 0, 43: 4, 46: 0, 3: 3, 11: 1, 32: 3, 31: 1, 6: 1, 19: 1, 21: 8, 20: 0, 48: 2, 5: 7, 1: 8, 25: 8, 4: 8, 22: 7, 13: 4, 12: 7, 2: 7, 42: 5, 26: 5, 10: 5, 18: 5}\n",
      "18\n",
      "best so far:6579.66\n",
      "6579.66\n",
      "{38: 0, 44: 1, 47: 2, 45: 3, 0: 4, 37: 5, 28: 6, 39: 7, 14: 8, 23: 9, 49: 9, 16: 2, 29: 9, 8: 9, 41: 6, 40: 2, 33: 2, 17: 6, 27: 9, 7: 6, 24: 4, 9: 6, 34: 3, 35: 4, 36: 0, 15: 3, 30: 0, 43: 4, 46: 0, 3: 3, 11: 1, 32: 3, 31: 1, 6: 1, 19: 1, 21: 8, 20: 0, 48: 2, 5: 7, 1: 8, 25: 8, 4: 8, 22: 7, 13: 4, 12: 7, 2: 7, 42: 5, 26: 5, 10: 5, 18: 5}\n",
      "19\n",
      "best so far:6579.66\n",
      "6579.66\n",
      "{38: 0, 44: 1, 47: 2, 45: 3, 0: 4, 37: 5, 28: 6, 39: 7, 14: 8, 23: 9, 49: 9, 16: 2, 29: 9, 8: 9, 41: 6, 40: 2, 33: 2, 17: 6, 27: 9, 7: 6, 24: 4, 9: 6, 34: 3, 35: 4, 36: 0, 15: 3, 30: 0, 43: 4, 46: 0, 3: 3, 11: 1, 32: 3, 31: 1, 6: 1, 19: 1, 21: 8, 20: 0, 48: 2, 5: 7, 1: 8, 25: 8, 4: 8, 22: 7, 13: 4, 12: 7, 2: 7, 42: 5, 26: 5, 10: 5, 18: 5}\n",
      "20\n",
      "best so far:6579.66\n",
      "6579.66\n",
      "{38: 0, 44: 1, 47: 2, 45: 3, 0: 4, 37: 5, 28: 6, 39: 7, 14: 8, 23: 9, 49: 9, 16: 2, 29: 9, 8: 9, 41: 6, 40: 2, 33: 2, 17: 6, 27: 9, 7: 6, 24: 4, 9: 6, 34: 3, 35: 4, 36: 0, 15: 3, 30: 0, 43: 4, 46: 0, 3: 3, 11: 1, 32: 3, 31: 1, 6: 1, 19: 1, 21: 8, 20: 0, 48: 2, 5: 7, 1: 8, 25: 8, 4: 8, 22: 7, 13: 4, 12: 7, 2: 7, 42: 5, 26: 5, 10: 5, 18: 5}\n",
      "21\n",
      "best so far:6592.209999999999\n",
      "6592.209999999999\n",
      "{28: 0, 11: 1, 48: 2, 5: 3, 1: 4, 25: 5, 27: 6, 7: 7, 3: 8, 46: 9, 21: 1, 13: 1, 2: 1, 26: 1, 38: 6, 44: 3, 24: 2, 49: 3, 0: 3, 37: 3, 17: 6, 16: 6, 8: 6, 29: 2, 41: 2, 40: 8, 33: 8, 14: 7, 47: 8, 9: 7, 34: 7, 36: 7, 15: 5, 30: 9, 43: 9, 23: 9, 18: 4, 35: 0, 10: 8, 39: 0, 22: 0, 32: 5, 31: 4, 6: 4, 19: 4, 20: 9, 45: 0, 4: 4, 12: 5, 42: 5}\n",
      "22\n",
      "best so far:6592.209999999999\n",
      "6592.209999999999\n",
      "{28: 0, 11: 1, 48: 2, 5: 3, 1: 4, 25: 5, 27: 6, 7: 7, 3: 8, 46: 9, 21: 1, 13: 1, 2: 1, 26: 1, 38: 6, 44: 3, 24: 2, 49: 3, 0: 3, 37: 3, 17: 6, 16: 6, 8: 6, 29: 2, 41: 2, 40: 8, 33: 8, 14: 7, 47: 8, 9: 7, 34: 7, 36: 7, 15: 5, 30: 9, 43: 9, 23: 9, 18: 4, 35: 0, 10: 8, 39: 0, 22: 0, 32: 5, 31: 4, 6: 4, 19: 4, 20: 9, 45: 0, 4: 4, 12: 5, 42: 5}\n",
      "23\n"
     ]
    },
    {
     "ename": "KeyboardInterrupt",
     "evalue": "",
     "output_type": "error",
     "traceback": [
      "\u001b[0;31m---------------------------------------------------------------------------\u001b[0m",
      "\u001b[0;31mKeyboardInterrupt\u001b[0m                         Traceback (most recent call last)",
      "\u001b[0;32m<ipython-input-15-0d1da526cd9a>\u001b[0m in \u001b[0;36m<module>\u001b[0;34m\u001b[0m\n\u001b[1;32m      8\u001b[0m \u001b[0mcityList\u001b[0m \u001b[0;34m=\u001b[0m \u001b[0mlst\u001b[0m\u001b[0;34m\u001b[0m\u001b[0;34m\u001b[0m\u001b[0m\n\u001b[1;32m      9\u001b[0m \u001b[0mrandom\u001b[0m\u001b[0;34m.\u001b[0m\u001b[0mshuffle\u001b[0m\u001b[0;34m(\u001b[0m\u001b[0mlst\u001b[0m\u001b[0;34m)\u001b[0m\u001b[0;34m\u001b[0m\u001b[0;34m\u001b[0m\u001b[0m\n\u001b[0;32m---> 10\u001b[0;31m \u001b[0mgeneticAlgorithm\u001b[0m\u001b[0;34m(\u001b[0m\u001b[0mpopulation\u001b[0m\u001b[0;34m=\u001b[0m\u001b[0mcityList\u001b[0m\u001b[0;34m,\u001b[0m \u001b[0mpopSize\u001b[0m\u001b[0;34m=\u001b[0m\u001b[0;36m15\u001b[0m\u001b[0;34m,\u001b[0m \u001b[0meliteSize\u001b[0m\u001b[0;34m=\u001b[0m\u001b[0;36m2\u001b[0m\u001b[0;34m,\u001b[0m \u001b[0mmutationRate\u001b[0m\u001b[0;34m=\u001b[0m\u001b[0;36m0.02\u001b[0m\u001b[0;34m,\u001b[0m \u001b[0mgenerations\u001b[0m\u001b[0;34m=\u001b[0m\u001b[0;36m100\u001b[0m\u001b[0;34m)\u001b[0m \u001b[0;31m#adjust hyper parameter\u001b[0m\u001b[0;34m\u001b[0m\u001b[0;34m\u001b[0m\u001b[0m\n\u001b[0m",
      "\u001b[0;32m<ipython-input-14-6e812a7470bf>\u001b[0m in \u001b[0;36mgeneticAlgorithm\u001b[0;34m(population, popSize, eliteSize, mutationRate, generations)\u001b[0m\n\u001b[1;32m      6\u001b[0m     \u001b[0;32mfor\u001b[0m \u001b[0mi\u001b[0m \u001b[0;32min\u001b[0m \u001b[0mrange\u001b[0m\u001b[0;34m(\u001b[0m\u001b[0;36m0\u001b[0m\u001b[0;34m,\u001b[0m \u001b[0mgenerations\u001b[0m\u001b[0;34m)\u001b[0m\u001b[0;34m:\u001b[0m\u001b[0;34m\u001b[0m\u001b[0;34m\u001b[0m\u001b[0m\n\u001b[1;32m      7\u001b[0m         \u001b[0mprint\u001b[0m\u001b[0;34m(\u001b[0m\u001b[0mi\u001b[0m\u001b[0;34m)\u001b[0m\u001b[0;34m\u001b[0m\u001b[0;34m\u001b[0m\u001b[0m\n\u001b[0;32m----> 8\u001b[0;31m         \u001b[0melite\u001b[0m \u001b[0;34m=\u001b[0m \u001b[0mrankRoutes\u001b[0m\u001b[0;34m(\u001b[0m\u001b[0mpop\u001b[0m\u001b[0;34m)\u001b[0m\u001b[0;34m[\u001b[0m\u001b[0;36m0\u001b[0m\u001b[0;34m]\u001b[0m\u001b[0;34m\u001b[0m\u001b[0;34m\u001b[0m\u001b[0m\n\u001b[0m\u001b[1;32m      9\u001b[0m         \u001b[0mans\u001b[0m \u001b[0;34m=\u001b[0m \u001b[0mFitness\u001b[0m\u001b[0;34m(\u001b[0m\u001b[0mpop\u001b[0m\u001b[0;34m[\u001b[0m\u001b[0melite\u001b[0m\u001b[0;34m[\u001b[0m\u001b[0;36m0\u001b[0m\u001b[0;34m]\u001b[0m\u001b[0;34m]\u001b[0m\u001b[0;34m)\u001b[0m\u001b[0;34m\u001b[0m\u001b[0;34m\u001b[0m\u001b[0m\n\u001b[1;32m     10\u001b[0m         \u001b[0;32mif\u001b[0m \u001b[0mhappiness\u001b[0m \u001b[0;34m<\u001b[0m \u001b[0mans\u001b[0m\u001b[0;34m.\u001b[0m\u001b[0mrouteFitness\u001b[0m\u001b[0;34m(\u001b[0m\u001b[0;34m)\u001b[0m\u001b[0;34m:\u001b[0m\u001b[0;34m\u001b[0m\u001b[0;34m\u001b[0m\u001b[0m\n",
      "\u001b[0;32m<ipython-input-6-6f9bb3becd19>\u001b[0m in \u001b[0;36mrankRoutes\u001b[0;34m(population)\u001b[0m\n\u001b[1;32m      2\u001b[0m     \u001b[0mfitnessResults\u001b[0m \u001b[0;34m=\u001b[0m \u001b[0;34m{\u001b[0m\u001b[0;34m}\u001b[0m\u001b[0;34m\u001b[0m\u001b[0;34m\u001b[0m\u001b[0m\n\u001b[1;32m      3\u001b[0m     \u001b[0;32mfor\u001b[0m \u001b[0mi\u001b[0m \u001b[0;32min\u001b[0m \u001b[0mrange\u001b[0m\u001b[0;34m(\u001b[0m\u001b[0;36m0\u001b[0m\u001b[0;34m,\u001b[0m\u001b[0mlen\u001b[0m\u001b[0;34m(\u001b[0m\u001b[0mpopulation\u001b[0m\u001b[0;34m)\u001b[0m\u001b[0;34m)\u001b[0m\u001b[0;34m:\u001b[0m\u001b[0;34m\u001b[0m\u001b[0;34m\u001b[0m\u001b[0m\n\u001b[0;32m----> 4\u001b[0;31m         \u001b[0mfitnessResults\u001b[0m\u001b[0;34m[\u001b[0m\u001b[0mi\u001b[0m\u001b[0;34m]\u001b[0m \u001b[0;34m=\u001b[0m \u001b[0mFitness\u001b[0m\u001b[0;34m(\u001b[0m\u001b[0mpopulation\u001b[0m\u001b[0;34m[\u001b[0m\u001b[0mi\u001b[0m\u001b[0;34m]\u001b[0m\u001b[0;34m)\u001b[0m\u001b[0;34m.\u001b[0m\u001b[0mrouteFitness\u001b[0m\u001b[0;34m(\u001b[0m\u001b[0;34m)\u001b[0m\u001b[0;34m\u001b[0m\u001b[0;34m\u001b[0m\u001b[0m\n\u001b[0m\u001b[1;32m      5\u001b[0m     \u001b[0;32mreturn\u001b[0m \u001b[0msorted\u001b[0m\u001b[0;34m(\u001b[0m\u001b[0mfitnessResults\u001b[0m\u001b[0;34m.\u001b[0m\u001b[0mitems\u001b[0m\u001b[0;34m(\u001b[0m\u001b[0;34m)\u001b[0m\u001b[0;34m,\u001b[0m \u001b[0mkey\u001b[0m \u001b[0;34m=\u001b[0m \u001b[0moperator\u001b[0m\u001b[0;34m.\u001b[0m\u001b[0mitemgetter\u001b[0m\u001b[0;34m(\u001b[0m\u001b[0;36m1\u001b[0m\u001b[0;34m)\u001b[0m\u001b[0;34m,\u001b[0m \u001b[0mreverse\u001b[0m \u001b[0;34m=\u001b[0m \u001b[0;32mTrue\u001b[0m\u001b[0;34m)\u001b[0m\u001b[0;34m\u001b[0m\u001b[0;34m\u001b[0m\u001b[0m\n",
      "\u001b[0;32m<ipython-input-3-b93f678a6e0b>\u001b[0m in \u001b[0;36mrouteFitness\u001b[0;34m(self)\u001b[0m\n\u001b[1;32m     47\u001b[0m     \u001b[0;32mdef\u001b[0m \u001b[0mrouteFitness\u001b[0m\u001b[0;34m(\u001b[0m\u001b[0mself\u001b[0m\u001b[0;34m)\u001b[0m\u001b[0;34m:\u001b[0m\u001b[0;34m\u001b[0m\u001b[0;34m\u001b[0m\u001b[0m\n\u001b[1;32m     48\u001b[0m         \u001b[0;32mif\u001b[0m \u001b[0mself\u001b[0m\u001b[0;34m.\u001b[0m\u001b[0mfitness\u001b[0m \u001b[0;34m==\u001b[0m \u001b[0;36m0\u001b[0m\u001b[0;34m:\u001b[0m\u001b[0;34m\u001b[0m\u001b[0;34m\u001b[0m\u001b[0m\n\u001b[0;32m---> 49\u001b[0;31m             \u001b[0mself\u001b[0m\u001b[0;34m.\u001b[0m\u001b[0mfitness\u001b[0m \u001b[0;34m=\u001b[0m \u001b[0mfloat\u001b[0m\u001b[0;34m(\u001b[0m\u001b[0mself\u001b[0m\u001b[0;34m.\u001b[0m\u001b[0mrouteDistance\u001b[0m\u001b[0;34m(\u001b[0m\u001b[0;34m)\u001b[0m\u001b[0;34m)\u001b[0m\u001b[0;34m\u001b[0m\u001b[0;34m\u001b[0m\u001b[0m\n\u001b[0m\u001b[1;32m     50\u001b[0m         \u001b[0;32mreturn\u001b[0m \u001b[0mself\u001b[0m\u001b[0;34m.\u001b[0m\u001b[0mfitness\u001b[0m\u001b[0;34m\u001b[0m\u001b[0;34m\u001b[0m\u001b[0m\n",
      "\u001b[0;32m<ipython-input-3-b93f678a6e0b>\u001b[0m in \u001b[0;36mrouteDistance\u001b[0;34m(self)\u001b[0m\n\u001b[1;32m     25\u001b[0m                     \u001b[0mgroup_copy\u001b[0m \u001b[0;34m=\u001b[0m \u001b[0mlist\u001b[0m\u001b[0;34m(\u001b[0m\u001b[0mgroup\u001b[0m\u001b[0;34m)\u001b[0m\u001b[0;34m\u001b[0m\u001b[0;34m\u001b[0m\u001b[0m\n\u001b[1;32m     26\u001b[0m                     \u001b[0mgroup_copy\u001b[0m\u001b[0;34m.\u001b[0m\u001b[0mappend\u001b[0m\u001b[0;34m(\u001b[0m\u001b[0mcur\u001b[0m\u001b[0;34m)\u001b[0m\u001b[0;34m\u001b[0m\u001b[0;34m\u001b[0m\u001b[0m\n\u001b[0;32m---> 27\u001b[0;31m                     \u001b[0mstress\u001b[0m \u001b[0;34m=\u001b[0m \u001b[0mcalculate_stress_for_room\u001b[0m\u001b[0;34m(\u001b[0m\u001b[0mgroup_copy\u001b[0m\u001b[0;34m,\u001b[0m \u001b[0mG\u001b[0m\u001b[0;34m)\u001b[0m\u001b[0;34m\u001b[0m\u001b[0;34m\u001b[0m\u001b[0m\n\u001b[0m\u001b[1;32m     28\u001b[0m                     \u001b[0;32mif\u001b[0m \u001b[0mstress\u001b[0m \u001b[0;34m<\u001b[0m \u001b[0mmini\u001b[0m\u001b[0;34m:\u001b[0m\u001b[0;34m\u001b[0m\u001b[0;34m\u001b[0m\u001b[0m\n\u001b[1;32m     29\u001b[0m                         \u001b[0mmini\u001b[0m \u001b[0;34m=\u001b[0m \u001b[0mstress\u001b[0m\u001b[0;34m\u001b[0m\u001b[0;34m\u001b[0m\u001b[0m\n",
      "\u001b[0;32m~/bkl/cs170-proj/utils.py\u001b[0m in \u001b[0;36mcalculate_stress_for_room\u001b[0;34m(arr, G)\u001b[0m\n\u001b[1;32m     72\u001b[0m     \"\"\"\n\u001b[1;32m     73\u001b[0m     \u001b[0mH\u001b[0m \u001b[0;34m=\u001b[0m \u001b[0mG\u001b[0m\u001b[0;34m.\u001b[0m\u001b[0msubgraph\u001b[0m\u001b[0;34m(\u001b[0m\u001b[0marr\u001b[0m\u001b[0;34m)\u001b[0m\u001b[0;34m\u001b[0m\u001b[0;34m\u001b[0m\u001b[0m\n\u001b[0;32m---> 74\u001b[0;31m     \u001b[0;32mreturn\u001b[0m \u001b[0mH\u001b[0m\u001b[0;34m.\u001b[0m\u001b[0msize\u001b[0m\u001b[0;34m(\u001b[0m\u001b[0;34m\"stress\"\u001b[0m\u001b[0;34m)\u001b[0m\u001b[0;34m\u001b[0m\u001b[0;34m\u001b[0m\u001b[0m\n\u001b[0m\u001b[1;32m     75\u001b[0m \u001b[0;34m\u001b[0m\u001b[0m\n\u001b[1;32m     76\u001b[0m \u001b[0;32mdef\u001b[0m \u001b[0mcalculate_happiness_for_room\u001b[0m\u001b[0;34m(\u001b[0m\u001b[0marr\u001b[0m\u001b[0;34m,\u001b[0m \u001b[0mG\u001b[0m\u001b[0;34m)\u001b[0m\u001b[0;34m:\u001b[0m\u001b[0;34m\u001b[0m\u001b[0;34m\u001b[0m\u001b[0m\n",
      "\u001b[0;32m~/miniconda3/lib/python3.7/site-packages/networkx/classes/graph.py\u001b[0m in \u001b[0;36msize\u001b[0;34m(self, weight)\u001b[0m\n\u001b[1;32m   1787\u001b[0m         \u001b[0;36m6.0\u001b[0m\u001b[0;34m\u001b[0m\u001b[0;34m\u001b[0m\u001b[0m\n\u001b[1;32m   1788\u001b[0m         \"\"\"\n\u001b[0;32m-> 1789\u001b[0;31m         \u001b[0ms\u001b[0m \u001b[0;34m=\u001b[0m \u001b[0msum\u001b[0m\u001b[0;34m(\u001b[0m\u001b[0md\u001b[0m \u001b[0;32mfor\u001b[0m \u001b[0mv\u001b[0m\u001b[0;34m,\u001b[0m \u001b[0md\u001b[0m \u001b[0;32min\u001b[0m \u001b[0mself\u001b[0m\u001b[0;34m.\u001b[0m\u001b[0mdegree\u001b[0m\u001b[0;34m(\u001b[0m\u001b[0mweight\u001b[0m\u001b[0;34m=\u001b[0m\u001b[0mweight\u001b[0m\u001b[0;34m)\u001b[0m\u001b[0;34m)\u001b[0m\u001b[0;34m\u001b[0m\u001b[0;34m\u001b[0m\u001b[0m\n\u001b[0m\u001b[1;32m   1790\u001b[0m         \u001b[0;31m# If `weight` is None, the sum of the degrees is guaranteed to be\u001b[0m\u001b[0;34m\u001b[0m\u001b[0;34m\u001b[0m\u001b[0;34m\u001b[0m\u001b[0m\n\u001b[1;32m   1791\u001b[0m         \u001b[0;31m# even, so we can perform integer division and hence return an\u001b[0m\u001b[0;34m\u001b[0m\u001b[0;34m\u001b[0m\u001b[0;34m\u001b[0m\u001b[0m\n",
      "\u001b[0;32m~/miniconda3/lib/python3.7/site-packages/networkx/classes/graph.py\u001b[0m in \u001b[0;36m<genexpr>\u001b[0;34m(.0)\u001b[0m\n\u001b[1;32m   1787\u001b[0m         \u001b[0;36m6.0\u001b[0m\u001b[0;34m\u001b[0m\u001b[0;34m\u001b[0m\u001b[0m\n\u001b[1;32m   1788\u001b[0m         \"\"\"\n\u001b[0;32m-> 1789\u001b[0;31m         \u001b[0ms\u001b[0m \u001b[0;34m=\u001b[0m \u001b[0msum\u001b[0m\u001b[0;34m(\u001b[0m\u001b[0md\u001b[0m \u001b[0;32mfor\u001b[0m \u001b[0mv\u001b[0m\u001b[0;34m,\u001b[0m \u001b[0md\u001b[0m \u001b[0;32min\u001b[0m \u001b[0mself\u001b[0m\u001b[0;34m.\u001b[0m\u001b[0mdegree\u001b[0m\u001b[0;34m(\u001b[0m\u001b[0mweight\u001b[0m\u001b[0;34m=\u001b[0m\u001b[0mweight\u001b[0m\u001b[0;34m)\u001b[0m\u001b[0;34m)\u001b[0m\u001b[0;34m\u001b[0m\u001b[0;34m\u001b[0m\u001b[0m\n\u001b[0m\u001b[1;32m   1790\u001b[0m         \u001b[0;31m# If `weight` is None, the sum of the degrees is guaranteed to be\u001b[0m\u001b[0;34m\u001b[0m\u001b[0;34m\u001b[0m\u001b[0;34m\u001b[0m\u001b[0m\n\u001b[1;32m   1791\u001b[0m         \u001b[0;31m# even, so we can perform integer division and hence return an\u001b[0m\u001b[0;34m\u001b[0m\u001b[0;34m\u001b[0m\u001b[0;34m\u001b[0m\u001b[0m\n",
      "\u001b[0;32m~/miniconda3/lib/python3.7/site-packages/networkx/classes/reportviews.py\u001b[0m in \u001b[0;36m__iter__\u001b[0;34m(self)\u001b[0m\n\u001b[1;32m    461\u001b[0m             \u001b[0;32mfor\u001b[0m \u001b[0mn\u001b[0m \u001b[0;32min\u001b[0m \u001b[0mself\u001b[0m\u001b[0;34m.\u001b[0m\u001b[0m_nodes\u001b[0m\u001b[0;34m:\u001b[0m\u001b[0;34m\u001b[0m\u001b[0;34m\u001b[0m\u001b[0m\n\u001b[1;32m    462\u001b[0m                 \u001b[0mnbrs\u001b[0m \u001b[0;34m=\u001b[0m \u001b[0mself\u001b[0m\u001b[0;34m.\u001b[0m\u001b[0m_succ\u001b[0m\u001b[0;34m[\u001b[0m\u001b[0mn\u001b[0m\u001b[0;34m]\u001b[0m\u001b[0;34m\u001b[0m\u001b[0;34m\u001b[0m\u001b[0m\n\u001b[0;32m--> 463\u001b[0;31m                 deg = sum(dd.get(weight, 1) for dd in nbrs.values()) + (\n\u001b[0m\u001b[1;32m    464\u001b[0m                     \u001b[0mn\u001b[0m \u001b[0;32min\u001b[0m \u001b[0mnbrs\u001b[0m \u001b[0;32mand\u001b[0m \u001b[0mnbrs\u001b[0m\u001b[0;34m[\u001b[0m\u001b[0mn\u001b[0m\u001b[0;34m]\u001b[0m\u001b[0;34m.\u001b[0m\u001b[0mget\u001b[0m\u001b[0;34m(\u001b[0m\u001b[0mweight\u001b[0m\u001b[0;34m,\u001b[0m \u001b[0;36m1\u001b[0m\u001b[0;34m)\u001b[0m\u001b[0;34m\u001b[0m\u001b[0;34m\u001b[0m\u001b[0m\n\u001b[1;32m    465\u001b[0m                 )\n",
      "\u001b[0;32m~/miniconda3/lib/python3.7/site-packages/networkx/classes/reportviews.py\u001b[0m in \u001b[0;36m<genexpr>\u001b[0;34m(.0)\u001b[0m\n\u001b[1;32m    461\u001b[0m             \u001b[0;32mfor\u001b[0m \u001b[0mn\u001b[0m \u001b[0;32min\u001b[0m \u001b[0mself\u001b[0m\u001b[0;34m.\u001b[0m\u001b[0m_nodes\u001b[0m\u001b[0;34m:\u001b[0m\u001b[0;34m\u001b[0m\u001b[0;34m\u001b[0m\u001b[0m\n\u001b[1;32m    462\u001b[0m                 \u001b[0mnbrs\u001b[0m \u001b[0;34m=\u001b[0m \u001b[0mself\u001b[0m\u001b[0;34m.\u001b[0m\u001b[0m_succ\u001b[0m\u001b[0;34m[\u001b[0m\u001b[0mn\u001b[0m\u001b[0;34m]\u001b[0m\u001b[0;34m\u001b[0m\u001b[0;34m\u001b[0m\u001b[0m\n\u001b[0;32m--> 463\u001b[0;31m                 deg = sum(dd.get(weight, 1) for dd in nbrs.values()) + (\n\u001b[0m\u001b[1;32m    464\u001b[0m                     \u001b[0mn\u001b[0m \u001b[0;32min\u001b[0m \u001b[0mnbrs\u001b[0m \u001b[0;32mand\u001b[0m \u001b[0mnbrs\u001b[0m\u001b[0;34m[\u001b[0m\u001b[0mn\u001b[0m\u001b[0;34m]\u001b[0m\u001b[0;34m.\u001b[0m\u001b[0mget\u001b[0m\u001b[0;34m(\u001b[0m\u001b[0mweight\u001b[0m\u001b[0;34m,\u001b[0m \u001b[0;36m1\u001b[0m\u001b[0;34m)\u001b[0m\u001b[0;34m\u001b[0m\u001b[0;34m\u001b[0m\u001b[0m\n\u001b[1;32m    465\u001b[0m                 )\n",
      "\u001b[0;32m~/miniconda3/lib/python3.7/_collections_abc.py\u001b[0m in \u001b[0;36m__iter__\u001b[0;34m(self)\u001b[0m\n\u001b[1;32m    760\u001b[0m     \u001b[0;32mdef\u001b[0m \u001b[0m__iter__\u001b[0m\u001b[0;34m(\u001b[0m\u001b[0mself\u001b[0m\u001b[0;34m)\u001b[0m\u001b[0;34m:\u001b[0m\u001b[0;34m\u001b[0m\u001b[0;34m\u001b[0m\u001b[0m\n\u001b[1;32m    761\u001b[0m         \u001b[0;32mfor\u001b[0m \u001b[0mkey\u001b[0m \u001b[0;32min\u001b[0m \u001b[0mself\u001b[0m\u001b[0;34m.\u001b[0m\u001b[0m_mapping\u001b[0m\u001b[0;34m:\u001b[0m\u001b[0;34m\u001b[0m\u001b[0;34m\u001b[0m\u001b[0m\n\u001b[0;32m--> 762\u001b[0;31m             \u001b[0;32myield\u001b[0m \u001b[0mself\u001b[0m\u001b[0;34m.\u001b[0m\u001b[0m_mapping\u001b[0m\u001b[0;34m[\u001b[0m\u001b[0mkey\u001b[0m\u001b[0;34m]\u001b[0m\u001b[0;34m\u001b[0m\u001b[0;34m\u001b[0m\u001b[0m\n\u001b[0m\u001b[1;32m    763\u001b[0m \u001b[0;34m\u001b[0m\u001b[0m\n\u001b[1;32m    764\u001b[0m \u001b[0mValuesView\u001b[0m\u001b[0;34m.\u001b[0m\u001b[0mregister\u001b[0m\u001b[0;34m(\u001b[0m\u001b[0mdict_values\u001b[0m\u001b[0;34m)\u001b[0m\u001b[0;34m\u001b[0m\u001b[0;34m\u001b[0m\u001b[0m\n",
      "\u001b[0;32m~/miniconda3/lib/python3.7/site-packages/networkx/classes/coreviews.py\u001b[0m in \u001b[0;36m__getitem__\u001b[0;34m(self, key)\u001b[0m\n\u001b[1;32m    280\u001b[0m \u001b[0;34m\u001b[0m\u001b[0m\n\u001b[1;32m    281\u001b[0m     \u001b[0;32mdef\u001b[0m \u001b[0m__getitem__\u001b[0m\u001b[0;34m(\u001b[0m\u001b[0mself\u001b[0m\u001b[0;34m,\u001b[0m \u001b[0mkey\u001b[0m\u001b[0;34m)\u001b[0m\u001b[0;34m:\u001b[0m\u001b[0;34m\u001b[0m\u001b[0;34m\u001b[0m\u001b[0m\n\u001b[0;32m--> 282\u001b[0;31m         \u001b[0;32mif\u001b[0m \u001b[0mkey\u001b[0m \u001b[0;32min\u001b[0m \u001b[0mself\u001b[0m\u001b[0;34m.\u001b[0m\u001b[0m_atlas\u001b[0m \u001b[0;32mand\u001b[0m \u001b[0mself\u001b[0m\u001b[0;34m.\u001b[0m\u001b[0mNODE_OK\u001b[0m\u001b[0;34m(\u001b[0m\u001b[0mkey\u001b[0m\u001b[0;34m)\u001b[0m\u001b[0;34m:\u001b[0m\u001b[0;34m\u001b[0m\u001b[0;34m\u001b[0m\u001b[0m\n\u001b[0m\u001b[1;32m    283\u001b[0m             \u001b[0;32mreturn\u001b[0m \u001b[0mself\u001b[0m\u001b[0;34m.\u001b[0m\u001b[0m_atlas\u001b[0m\u001b[0;34m[\u001b[0m\u001b[0mkey\u001b[0m\u001b[0;34m]\u001b[0m\u001b[0;34m\u001b[0m\u001b[0;34m\u001b[0m\u001b[0m\n\u001b[1;32m    284\u001b[0m         \u001b[0;32mraise\u001b[0m \u001b[0mKeyError\u001b[0m\u001b[0;34m(\u001b[0m\u001b[0;34mf\"Key {key} not found\"\u001b[0m\u001b[0;34m)\u001b[0m\u001b[0;34m\u001b[0m\u001b[0;34m\u001b[0m\u001b[0m\n",
      "\u001b[0;31mKeyboardInterrupt\u001b[0m: "
     ]
    }
   ],
   "source": [
    "path = \"inputs/large/large-1.in\" #change the input path here\n",
    "G, s = read_input_file(path)\n",
    "# pathout = \"50.out\"\n",
    "\n",
    "# D = read_output_file(pathout, G, s)\n",
    "# print(\"Our happiness:\" + str(calculate_happiness(D, G)))\n",
    "lst = list(G.nodes)\n",
    "cityList = lst\n",
    "random.shuffle(lst)\n",
    "geneticAlgorithm(population=cityList, popSize=15, eliteSize=2, mutationRate=0.02, generations=100) #adjust hyper parameter"
   ]
  },
  {
   "cell_type": "markdown",
   "metadata": {},
   "source": [
    "## Running the genetic algorithm"
   ]
  },
  {
   "cell_type": "markdown",
   "metadata": {},
   "source": [
    "Create list of cities"
   ]
  },
  {
   "cell_type": "code",
   "execution_count": 17,
   "metadata": {},
   "outputs": [],
   "source": [
    "cityList = []\n",
    "\n",
    "for i in range(0,25):\n",
    "    cityList.append(City(x=int(random.random() * 200), y=int(random.random() * 200)))"
   ]
  },
  {
   "cell_type": "markdown",
   "metadata": {},
   "source": [
    "Run the genetic algorithm"
   ]
  },
  {
   "cell_type": "code",
   "execution_count": 18,
   "metadata": {},
   "outputs": [
    {
     "name": "stdout",
     "output_type": "stream",
     "text": [
      "Initial distance: 2249.7240306428266\n",
      "Final distance: 804.4841773781344\n"
     ]
    },
    {
     "data": {
      "text/plain": [
       "[(163,56),\n",
       " (140,97),\n",
       " (177,120),\n",
       " (187,141),\n",
       " (134,172),\n",
       " (113,170),\n",
       " (69,159),\n",
       " (46,194),\n",
       " (36,196),\n",
       " (14,184),\n",
       " (37,176),\n",
       " (45,152),\n",
       " (50,153),\n",
       " (68,116),\n",
       " (77,85),\n",
       " (29,72),\n",
       " (27,64),\n",
       " (71,50),\n",
       " (54,20),\n",
       " (59,3),\n",
       " (105,32),\n",
       " (135,38),\n",
       " (167,14),\n",
       " (192,14),\n",
       " (174,43)]"
      ]
     },
     "execution_count": 18,
     "metadata": {},
     "output_type": "execute_result"
    }
   ],
   "source": [
    "geneticAlgorithm(population=cityList, popSize=100, eliteSize=20, mutationRate=0.01, generations=500)"
   ]
  },
  {
   "cell_type": "markdown",
   "metadata": {},
   "source": [
    "## Plot the progress"
   ]
  },
  {
   "cell_type": "markdown",
   "metadata": {},
   "source": [
    "Note, this will win run a separate GA"
   ]
  },
  {
   "cell_type": "code",
   "execution_count": null,
   "metadata": {},
   "outputs": [],
   "source": [
    "def geneticAlgorithmPlot(population, popSize, eliteSize, mutationRate, generations):\n",
    "    pop = initialPopulation(popSize, population)\n",
    "    progress = []\n",
    "    progress.append(rankRoutes(pop)[0][1])\n",
    "    \n",
    "    for i in range(0, generations):\n",
    "        pop = nextGeneration(pop, eliteSize, mutationRate)\n",
    "        progress.append(rankRoutes(pop)[0][1])\n",
    "    \n",
    "    plt.plot(progress)\n",
    "    plt.ylabel('Distance')\n",
    "    plt.xlabel('Generation')\n",
    "    plt.show()"
   ]
  },
  {
   "cell_type": "markdown",
   "metadata": {},
   "source": [
    "Run the function with our assumptions to see how distance has improved in each generation"
   ]
  },
  {
   "cell_type": "code",
   "execution_count": null,
   "metadata": {},
   "outputs": [],
   "source": [
    "geneticAlgorithmPlot(population=cityList, popSize=100, eliteSize=20, mutationRate=0.01, generations=1000)"
   ]
  },
  {
   "cell_type": "code",
   "execution_count": null,
   "metadata": {},
   "outputs": [],
   "source": []
  }
 ],
 "metadata": {
  "kernelspec": {
   "display_name": "Python 3",
   "language": "python",
   "name": "python3"
  },
  "language_info": {
   "codemirror_mode": {
    "name": "ipython",
    "version": 3
   },
   "file_extension": ".py",
   "mimetype": "text/x-python",
   "name": "python",
   "nbconvert_exporter": "python",
   "pygments_lexer": "ipython3",
   "version": "3.7.6"
  }
 },
 "nbformat": 4,
 "nbformat_minor": 4
}
